{
 "cells": [
  {
   "cell_type": "code",
   "execution_count": 1,
   "metadata": {},
   "outputs": [
    {
     "name": "stderr",
     "output_type": "stream",
     "text": [
      "/tmp/ipykernel_6161/3311099464.py:10: DeprecationWarning: 'uu' is deprecated and slated for removal in Python 3.13\n",
      "  from uu import Error\n"
     ]
    },
    {
     "ename": "IndentationError",
     "evalue": "expected an indented block after function definition on line 26 (persistant.py, line 30)",
     "output_type": "error",
     "traceback": [
      "Traceback \u001b[0;36m(most recent call last)\u001b[0m:\n",
      "\u001b[0m  File \u001b[1;32m~/anaconda3/envs/recup/lib/python3.12/site-packages/IPython/core/interactiveshell.py:3577\u001b[0m in \u001b[1;35mrun_code\u001b[0m\n    exec(code_obj, self.user_global_ns, self.user_ns)\u001b[0m\n",
      "\u001b[0m  Cell \u001b[1;32mIn[1], line 11\u001b[0m\n    from custom_components.berluf_selen_500.berluf_selen_500.modbus_impl.pymodbus import (\u001b[0m\n",
      "\u001b[0m  File \u001b[1;32m~/hass_berluf_selen_500/custom_components/berluf_selen_500/__init__.py:14\u001b[0m\n    from .data import Berluf_selen_500_Data\u001b[0m\n",
      "\u001b[0m  File \u001b[1;32m~/hass_berluf_selen_500/custom_components/berluf_selen_500/data.py:13\u001b[0m\n    from .berluf_selen_500.device import Recup_device\u001b[0m\n",
      "\u001b[0;36m  File \u001b[0;32m~/hass_berluf_selen_500/custom_components/berluf_selen_500/berluf_selen_500/device.py:4\u001b[0;36m\n\u001b[0;31m    from .modbus_slave.persistant import Memory_persistant, Memory_persistant_factory\u001b[0;36m\n",
      "\u001b[0;36m  File \u001b[0;32m~/hass_berluf_selen_500/custom_components/berluf_selen_500/berluf_selen_500/modbus_slave/persistant.py:30\u001b[0;36m\u001b[0m\n\u001b[0;31m    def save_single(self, addr: int, val: int):\u001b[0m\n\u001b[0m    ^\u001b[0m\n\u001b[0;31mIndentationError\u001b[0m\u001b[0;31m:\u001b[0m expected an indented block after function definition on line 26\n"
     ]
    }
   ],
   "source": [
    "# %%\n",
    "# !pip3 install pyserial\n",
    "# !pip3 install pymodbus\n",
    "# !pip3 install homeassistant\n",
    "\n",
    "\n",
    "# %%\n",
    "# Pymodbus\n",
    "from pickle import NONE\n",
    "from uu import Error\n",
    "from custom_components.berluf_selen_500.berluf_selen_500.modbus_impl.pymodbus import (\n",
    "    serial as pymodbus_serial,\n",
    ")\n",
    "\n",
    "# Recuperator\n",
    "from custom_components.berluf_selen_500.berluf_selen_500 import (\n",
    "    serial as recup_serial,\n",
    ")\n",
    "from custom_components.berluf_selen_500.berluf_selen_500 import device as recup_device\n",
    "\n",
    "# Persistant memory\n",
    "from custom_components.berluf_selen_500.berluf_selen_500.modbus_slave import persistant\n",
    "\n",
    "# Functions\n",
    "from custom_components.berluf_selen_500.berluf_selen_500 import funcs as recup_funcs\n",
    "\n",
    "import asyncio\n",
    "# import importlib\n",
    "# importlib.reload(pymodbus_serial)\n",
    "# importlib.reload(recup_serial)\n",
    "# importlib.reload(recup_device)\n",
    "# importlib.reload(persistant)\n",
    "# importlib.reload(recup_funcs)\n",
    "\n",
    "\n",
    "# %%\n",
    "def connect_callb():\n",
    "    print(\"Connected\")\n",
    "    return\n",
    "\n",
    "\n",
    "def disconnect_callb(x: Exception | None):\n",
    "    print(\"Disconnected\")\n",
    "    if x != None:\n",
    "        raise x\n",
    "\n",
    "\n",
    "def error_callb(ecs: list[recup_funcs.Error.Error]):\n",
    "    # Save errors\n",
    "    if len(ecs) == 0:\n",
    "        _ec = None\n",
    "    else:\n",
    "        _ec = ecs[0].name\n",
    "        for e in ecs[1:]:\n",
    "            _ec += f\", {e.name}\"\n",
    "\n",
    "    print(\"test\")\n",
    "\n",
    "\n",
    "async def main():\n",
    "    # Interface for connectiong to serial\n",
    "    recup_intf = recup_serial.Recup_serial_intf(\n",
    "        \"/dev/pts/3\",\n",
    "        pymodbus_serial.Pymodbus_serial_intf_builder(),\n",
    "        connect_callb,\n",
    "        disconnect_callb,\n",
    "    )\n",
    "    # Persistant memory\n",
    "    persist = persistant.Persistant_dummy_factory()\n",
    "    # Device's memory\n",
    "    recup = recup_device.Recup_device(recup_intf, persist)\n",
    "\n",
    "    # %%\n",
    "    recup.holding_registers.get_single_val(1)\n",
    "\n",
    "    # %%\n",
    "    def bypass_callb(x: bool) -> None:\n",
    "        print(\"test\")\n",
    "        return\n",
    "\n",
    "    # %%\n",
    "    bypass = recup_funcs.Bypass(recup, bypass_callb)\n",
    "\n",
    "    # %%\n",
    "    gwc = recup_funcs.GWC(recup)\n",
    "    print(persist._mem)\n",
    "    gwc.set(True)\n",
    "\n",
    "    print(persist._mem)\n",
    "\n",
    "    error = recup_funcs.Error(device=recup, callb=error_callb)\n",
    "\n",
    "    # %%\n",
    "    await recup_intf.connect()\n",
    "\n",
    "    while True:\n",
    "        # print(bypass.get())\n",
    "        print(error.get())\n",
    "        await asyncio.sleep(2)\n",
    "\n",
    "\n",
    "asyncio.run(main())\n"
   ]
  },
  {
   "cell_type": "code",
   "execution_count": 1,
   "metadata": {},
   "outputs": [],
   "source": [
    "# !pip3 install pyserial\n",
    "# !pip3 install pymodbus\n",
    "# !pip3 install homeassistant\n"
   ]
  },
  {
   "cell_type": "code",
   "execution_count": 2,
   "metadata": {},
   "outputs": [],
   "source": [
    "# Pymodbus\n",
    "from custom_components.berluf_selen_500.berluf_selen_500.modbus_impl.pymodbus import serial as pymodbus_serial\n",
    "# Recuperator\n",
    "from custom_components.berluf_selen_500.berluf_selen_500 import (\n",
    "    serial as recup_serial,\n",
    ")\n",
    "from custom_components.berluf_selen_500.berluf_selen_500 import device as recup_device\n",
    "# Persistant memory\n",
    "from custom_components.berluf_selen_500.berluf_selen_500.modbus_slave import persistant\n",
    "# Functions\n",
    "from custom_components.berluf_selen_500.berluf_selen_500 import funcs as recup_funcs\n",
    "\n",
    "import asyncio\n",
    "\n",
    "# import importlib\n",
    "# importlib.reload(pymodbus_serial)\n",
    "# importlib.reload(recup_serial)\n",
    "# importlib.reload(recup_device)\n",
    "# importlib.reload(persistant)\n",
    "# importlib.reload(recup_funcs)"
   ]
  },
  {
   "cell_type": "code",
   "execution_count": 3,
   "metadata": {},
   "outputs": [],
   "source": [
    "def connect_callb():\n",
    "    return\n",
    "\n",
    "def disconnect_callb(x):\n",
    "    return\n",
    "\n",
    "# Interface for connectiong to serial\n",
    "recup_intf = recup_serial.Recup_serial_intf(\n",
    "    \"/dev/pts/4\",\n",
    "    pymodbus_serial.Pymodbus_serial_intf_builder(),\n",
    "    connect_callb,\n",
    "    disconnect_callb,\n",
    ")\n",
    "# Persistant memory\n",
    "persist = persistant.Persistant_dummy_factory()\n",
    "# Device's memory\n",
    "recup = recup_device.Recup_device(recup_intf, persist)"
   ]
  },
  {
   "cell_type": "code",
   "execution_count": 4,
   "metadata": {},
   "outputs": [
    {
     "data": {
      "text/plain": [
       "0"
      ]
     },
     "execution_count": 4,
     "metadata": {},
     "output_type": "execute_result"
    }
   ],
   "source": [
    "recup.holding_registers.get_single_val(1)"
   ]
  },
  {
   "cell_type": "code",
   "execution_count": 5,
   "metadata": {},
   "outputs": [],
   "source": [
    "def bypass_callb(x: bool) -> None:\n",
    "    print(\"test\")\n",
    "    return"
   ]
  },
  {
   "cell_type": "code",
   "execution_count": 6,
   "metadata": {},
   "outputs": [],
   "source": [
    "bypass = recup_funcs.Bypass(recup, bypass_callb)"
   ]
  },
  {
   "cell_type": "code",
   "execution_count": 7,
   "metadata": {},
   "outputs": [
    {
     "name": "stdout",
     "output_type": "stream",
     "text": [
      "{'holding_registers': {0: 1, 1: 0, 2: 25, 3: 18, 4: 18, 5: 26, 6: 22, 7: 5, 8: 60, 9: 60, 10: 30, 60: 2, 61: 25, 62: 0, 63: 24, 64: 1, 65: 0, 66: 25, 67: 25, 68: 25, 69: 0, 70: 10, 71: 10, 72: 2, 274: 26, 275: 3, 276: 112, 277: 0, 278: 16, 258: 128, 259: 20, 260: 20, 261: 20, 262: 20, 263: 20}}\n",
      "{'holding_registers': {0: 1, 1: 0, 2: 25, 3: 18, 4: 18, 5: 26, 6: 22, 7: 5, 8: 60, 9: 60, 10: 30, 60: 2, 61: 25, 62: 0, 63: 24, 64: 1, 65: 0, 66: 25, 67: 25, 68: 25, 69: 0, 70: 10, 71: 10, 72: 2, 274: 26, 275: 3, 276: 112, 277: 0, 278: 16, 258: 128, 259: 20, 260: 20, 261: 20, 262: 20, 263: 20}}\n"
     ]
    }
   ],
   "source": [
    "gwc = recup_funcs.GWC(recup)\n",
    "print(persist._mem)\n",
    "gwc.set(True)\n",
    "\n",
    "print(persist._mem)"
   ]
  },
  {
   "cell_type": "code",
   "execution_count": 8,
   "metadata": {},
   "outputs": [
    {
     "name": "stdout",
     "output_type": "stream",
     "text": [
      "True\n"
     ]
    },
    {
     "name": "stdout",
     "output_type": "stream",
     "text": [
      "True\n"
     ]
    }
   ],
   "source": [
    "await recup_intf.connect()\n",
    "\n",
    "while True:\n",
    "    print(bypass.get())\n",
    "    await asyncio.sleep(2)"
   ]
  }
 ],
 "metadata": {
  "kernelspec": {
   "display_name": "Python 3",
   "language": "python",
   "name": "python3"
  },
  "language_info": {
   "codemirror_mode": {
    "name": "ipython",
    "version": 3
   },
   "file_extension": ".py",
   "mimetype": "text/x-python",
   "name": "python",
   "nbconvert_exporter": "python",
   "pygments_lexer": "ipython3",
   "version": "3.12.6"
  },
  "orig_nbformat": 4
 },
 "nbformat": 4,
 "nbformat_minor": 2
}
