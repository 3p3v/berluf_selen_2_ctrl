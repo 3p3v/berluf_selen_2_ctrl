{
 "cells": [
  {
   "cell_type": "code",
   "execution_count": 727,
   "metadata": {},
   "outputs": [],
   "source": [
    "# !pip3 install pymodbus\n",
    "# !pip3 install pyserial"
   ]
  },
  {
   "cell_type": "code",
   "execution_count": 1,
   "metadata": {},
   "outputs": [],
   "source": [
    "import pymodbus\n",
    "import serial\n",
    "from pymodbus.client import ModbusSerialClient as ModbusClient"
   ]
  },
  {
   "cell_type": "code",
   "execution_count": 2,
   "metadata": {},
   "outputs": [],
   "source": [
    "class Panel: # TODO make underlying class capable of holding any registry to send and to receive\n",
    "    def __init__(self, cli: ModbusClient):\n",
    "        self._addr = 1\n",
    "        self._cli = cli\n",
    "        self._01 = 25\n",
    "        self._02 = 25\n",
    "        self._03 = 25\n",
    "        self._04 = 25\n",
    "        self._05 = 25\n",
    "        self._ec = 0\n",
    "        return \n",
    "    \n",
    "    def set_01(self, temp: int):\n",
    "        self._01 = temp\n",
    "        return\n",
    "    \n",
    "    def set_02(self, temp: int):\n",
    "        self._02 = temp\n",
    "        return\n",
    "    \n",
    "    def set_03(self, temp: int):\n",
    "        self._03 = temp\n",
    "        return\n",
    "    \n",
    "    def set_04(self, temp: int):\n",
    "        self._04 = temp\n",
    "        return\n",
    "    \n",
    "    def set_05(self, temp: int):\n",
    "        self._05 = temp\n",
    "        return\n",
    "    \n",
    "    def set_error(self, ec: str):\n",
    "        self._ec = int(ec, 2)\n",
    "        return\n",
    "    \n",
    "    def send_regs(self) -> int:\n",
    "        self._cli.write_register(258, self._ec, slave=self._addr)\n",
    "        self._cli.write_register(259, self._01, slave=self._addr)\n",
    "        self._cli.write_register(260, self._02, slave=self._addr)\n",
    "        self._cli.write_register(261, self._03, slave=self._addr)\n",
    "        self._cli.write_register(262, self._04, slave=self._addr)\n",
    "        self._cli.write_register(263, self._05, slave=self._addr)\n",
    "        return 0\n",
    "    \n",
    "    def receive_holding_regs(self): # for now ignore values\n",
    "        self._cli.read_holding_registers(0, 11, slave=self._addr)\n",
    "        self._cli.read_holding_registers(60, 13, slave=self._addr)\n",
    "        self._cli.read_holding_registers(274, 5, slave=self._addr)\n",
    "        pass"
   ]
  },
  {
   "cell_type": "code",
   "execution_count": 6,
   "metadata": {},
   "outputs": [],
   "source": [
    "cli = ModbusClient(port=\"/dev/pts/3\", baudrate=9600, bytesize=8, parity = 'O', stopbits= 1)"
   ]
  },
  {
   "cell_type": "code",
   "execution_count": 8,
   "metadata": {},
   "outputs": [],
   "source": [
    "panel = Panel(cli)"
   ]
  },
  {
   "cell_type": "code",
   "execution_count": 9,
   "metadata": {},
   "outputs": [
    {
     "name": "stderr",
     "output_type": "stream",
     "text": [
      "module 'serial' has no attribute 'serial_for_url'\n"
     ]
    },
    {
     "ename": "ConnectionException",
     "evalue": "Modbus Error: [Connection] Failed to connect[ModbusSerialClient /dev/pts/3:0]",
     "output_type": "error",
     "traceback": [
      "\u001b[0;31m---------------------------------------------------------------------------\u001b[0m",
      "\u001b[0;31mConnectionException\u001b[0m                       Traceback (most recent call last)",
      "Cell \u001b[0;32mIn[9], line 1\u001b[0m\n\u001b[0;32m----> 1\u001b[0m \u001b[43mpanel\u001b[49m\u001b[38;5;241;43m.\u001b[39;49m\u001b[43mreceive_holding_regs\u001b[49m\u001b[43m(\u001b[49m\u001b[43m)\u001b[49m\n",
      "Cell \u001b[0;32mIn[2], line 47\u001b[0m, in \u001b[0;36mPanel.receive_holding_regs\u001b[0;34m(self)\u001b[0m\n\u001b[1;32m     46\u001b[0m \u001b[38;5;28;01mdef\u001b[39;00m \u001b[38;5;21mreceive_holding_regs\u001b[39m(\u001b[38;5;28mself\u001b[39m): \u001b[38;5;66;03m# for now ignore values\u001b[39;00m\n\u001b[0;32m---> 47\u001b[0m     \u001b[38;5;28;43mself\u001b[39;49m\u001b[38;5;241;43m.\u001b[39;49m\u001b[43m_cli\u001b[49m\u001b[38;5;241;43m.\u001b[39;49m\u001b[43mread_holding_registers\u001b[49m\u001b[43m(\u001b[49m\u001b[38;5;241;43m0\u001b[39;49m\u001b[43m,\u001b[49m\u001b[43m \u001b[49m\u001b[38;5;241;43m11\u001b[39;49m\u001b[43m,\u001b[49m\u001b[43m \u001b[49m\u001b[43mslave\u001b[49m\u001b[38;5;241;43m=\u001b[39;49m\u001b[38;5;28;43mself\u001b[39;49m\u001b[38;5;241;43m.\u001b[39;49m\u001b[43m_addr\u001b[49m\u001b[43m)\u001b[49m\n\u001b[1;32m     48\u001b[0m     \u001b[38;5;28mself\u001b[39m\u001b[38;5;241m.\u001b[39m_cli\u001b[38;5;241m.\u001b[39mread_holding_registers(\u001b[38;5;241m60\u001b[39m, \u001b[38;5;241m13\u001b[39m, slave\u001b[38;5;241m=\u001b[39m\u001b[38;5;28mself\u001b[39m\u001b[38;5;241m.\u001b[39m_addr)\n\u001b[1;32m     49\u001b[0m     \u001b[38;5;28mself\u001b[39m\u001b[38;5;241m.\u001b[39m_cli\u001b[38;5;241m.\u001b[39mread_holding_registers(\u001b[38;5;241m274\u001b[39m, \u001b[38;5;241m5\u001b[39m, slave\u001b[38;5;241m=\u001b[39m\u001b[38;5;28mself\u001b[39m\u001b[38;5;241m.\u001b[39m_addr)\n",
      "File \u001b[0;32m~/anaconda3/envs/recup/lib/python3.12/site-packages/pymodbus/client/mixin.py:92\u001b[0m, in \u001b[0;36mModbusClientMixin.read_holding_registers\u001b[0;34m(self, address, count, slave)\u001b[0m\n\u001b[1;32m     84\u001b[0m \u001b[38;5;28;01mdef\u001b[39;00m \u001b[38;5;21mread_holding_registers\u001b[39m(\u001b[38;5;28mself\u001b[39m, address: \u001b[38;5;28mint\u001b[39m, count: \u001b[38;5;28mint\u001b[39m \u001b[38;5;241m=\u001b[39m \u001b[38;5;241m1\u001b[39m, slave: \u001b[38;5;28mint\u001b[39m \u001b[38;5;241m=\u001b[39m \u001b[38;5;241m1\u001b[39m) \u001b[38;5;241m-\u001b[39m\u001b[38;5;241m>\u001b[39m T:\n\u001b[1;32m     85\u001b[0m \u001b[38;5;250m    \u001b[39m\u001b[38;5;124;03m\"\"\"Read holding registers (code 0x03).\u001b[39;00m\n\u001b[1;32m     86\u001b[0m \n\u001b[1;32m     87\u001b[0m \u001b[38;5;124;03m    :param address: Start address to read from\u001b[39;00m\n\u001b[0;32m   (...)\u001b[0m\n\u001b[1;32m     90\u001b[0m \u001b[38;5;124;03m    :raises ModbusException:\u001b[39;00m\n\u001b[1;32m     91\u001b[0m \u001b[38;5;124;03m    \"\"\"\u001b[39;00m\n\u001b[0;32m---> 92\u001b[0m     \u001b[38;5;28;01mreturn\u001b[39;00m \u001b[38;5;28;43mself\u001b[39;49m\u001b[38;5;241;43m.\u001b[39;49m\u001b[43mexecute\u001b[49m\u001b[43m(\u001b[49m\u001b[43mpdu_reg_read\u001b[49m\u001b[38;5;241;43m.\u001b[39;49m\u001b[43mReadHoldingRegistersRequest\u001b[49m\u001b[43m(\u001b[49m\u001b[43maddress\u001b[49m\u001b[43m,\u001b[49m\u001b[43m \u001b[49m\u001b[43mcount\u001b[49m\u001b[43m,\u001b[49m\u001b[43m \u001b[49m\u001b[43mslave\u001b[49m\u001b[38;5;241;43m=\u001b[39;49m\u001b[43mslave\u001b[49m\u001b[43m)\u001b[49m\u001b[43m)\u001b[49m\n",
      "File \u001b[0;32m~/anaconda3/envs/recup/lib/python3.12/site-packages/pymodbus/client/base.py:236\u001b[0m, in \u001b[0;36mModbusBaseSyncClient.execute\u001b[0;34m(self, request)\u001b[0m\n\u001b[1;32m    229\u001b[0m \u001b[38;5;250m\u001b[39m\u001b[38;5;124;03m\"\"\"Execute request and get response (call **sync/async**).\u001b[39;00m\n\u001b[1;32m    230\u001b[0m \n\u001b[1;32m    231\u001b[0m \u001b[38;5;124;03m:param request: The request to process\u001b[39;00m\n\u001b[1;32m    232\u001b[0m \u001b[38;5;124;03m:returns: The result of the request execution\u001b[39;00m\n\u001b[1;32m    233\u001b[0m \u001b[38;5;124;03m:raises ConnectionException: Check exception text.\u001b[39;00m\n\u001b[1;32m    234\u001b[0m \u001b[38;5;124;03m\"\"\"\u001b[39;00m\n\u001b[1;32m    235\u001b[0m \u001b[38;5;28;01mif\u001b[39;00m \u001b[38;5;129;01mnot\u001b[39;00m \u001b[38;5;28mself\u001b[39m\u001b[38;5;241m.\u001b[39mconnect():\n\u001b[0;32m--> 236\u001b[0m     \u001b[38;5;28;01mraise\u001b[39;00m ConnectionException(\u001b[38;5;124mf\u001b[39m\u001b[38;5;124m\"\u001b[39m\u001b[38;5;124mFailed to connect[\u001b[39m\u001b[38;5;132;01m{\u001b[39;00m\u001b[38;5;28mself\u001b[39m\u001b[38;5;132;01m!s}\u001b[39;00m\u001b[38;5;124m]\u001b[39m\u001b[38;5;124m\"\u001b[39m)\n\u001b[1;32m    237\u001b[0m \u001b[38;5;28;01mreturn\u001b[39;00m \u001b[38;5;28mself\u001b[39m\u001b[38;5;241m.\u001b[39mtransaction\u001b[38;5;241m.\u001b[39mexecute(request)\n",
      "\u001b[0;31mConnectionException\u001b[0m: Modbus Error: [Connection] Failed to connect[ModbusSerialClient /dev/pts/3:0]"
     ]
    }
   ],
   "source": [
    "panel.receive_holding_regs()"
   ]
  },
  {
   "cell_type": "code",
   "execution_count": 733,
   "metadata": {},
   "outputs": [
    {
     "data": {
      "text/plain": [
       "0"
      ]
     },
     "execution_count": 733,
     "metadata": {},
     "output_type": "execute_result"
    }
   ],
   "source": [
    "panel.set_error(\"00000000\")\n",
    "panel.send_regs()"
   ]
  },
  {
   "cell_type": "code",
   "execution_count": 734,
   "metadata": {},
   "outputs": [],
   "source": [
    "panel.receive_holding_regs()"
   ]
  },
  {
   "cell_type": "code",
   "execution_count": 736,
   "metadata": {},
   "outputs": [],
   "source": [
    "cli.close()"
   ]
  }
 ],
 "metadata": {
  "kernelspec": {
   "display_name": "recup",
   "language": "python",
   "name": "python3"
  },
  "language_info": {
   "codemirror_mode": {
    "name": "ipython",
    "version": 3
   },
   "file_extension": ".py",
   "mimetype": "text/x-python",
   "name": "python",
   "nbconvert_exporter": "python",
   "pygments_lexer": "ipython3",
   "version": "3.12.6"
  }
 },
 "nbformat": 4,
 "nbformat_minor": 2
}
